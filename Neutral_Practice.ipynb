{
  "cells": [
    {
      "cell_type": "markdown",
      "metadata": {
        "id": "view-in-github",
        "colab_type": "text"
      },
      "source": [
        "<a href=\"https://colab.research.google.com/github/bennnnnja/summer_practice/blob/main/Neutral_Practice.ipynb\" target=\"_parent\"><img src=\"https://colab.research.google.com/assets/colab-badge.svg\" alt=\"Open In Colab\"/></a>"
      ]
    },
    {
      "cell_type": "code",
      "execution_count": null,
      "metadata": {
        "colab": {
          "background_save": true
        },
        "id": "V2ocYInjMebO"
      },
      "outputs": [],
      "source": [
        "import numpy as np\n",
        "from tensorflow.keras.models import Sequential\n",
        "from tensorflow.keras.layers import Conv2D, BatchNormalization, MaxPool2D, Dropout, Flatten, Dense\n",
        "from tensorflow.keras.optimizers import Adam\n",
        "from tensorflow.keras.preprocessing.image import ImageDataGenerator\n",
        "from google.colab import drive\n",
        "import matplotlib.pyplot as plt\n",
        "\n",
        "drive.mount('/content/drive')\n",
        "\n",
        "# Определение ImageDataGenerator один раз\n",
        "datagen = ImageDataGenerator(rescale=1./255,\n",
        "                             shear_range=0.2,\n",
        "                             zoom_range=0.2,\n",
        "                             horizontal_flip=True,\n",
        "                             featurewise_center=True,\n",
        "                             featurewise_std_normalization=True)\n",
        "\n",
        "\n",
        "\n",
        "train_generator = datagen.flow_from_directory('/content/drive/MyDrive/train',\n",
        "                                              target_size=(48, 48),\n",
        "                                              batch_size=64,\n",
        "                                              color_mode='grayscale',\n",
        "                                              class_mode='categorical')\n",
        "\n",
        "validation_generator = datagen.flow_from_directory('/content/drive/MyDrive/test',\n",
        "                                                  target_size=(48, 48),\n",
        "                                                  batch_size=64,\n",
        "                                                  color_mode='grayscale',\n",
        "                                                  class_mode='categorical')\n",
        "\n",
        "cnn = Sequential()\n",
        "cnn.add(Conv2D(32, kernel_size=3, activation='relu', input_shape=[48, 48, 1]))\n",
        "cnn.add(BatchNormalization())\n",
        "cnn.add(MaxPool2D(pool_size=2, strides=2))\n",
        "cnn.add(Dropout(0.25))\n",
        "\n",
        "cnn.add(Conv2D(64, kernel_size=3, activation='relu'))\n",
        "cnn.add(BatchNormalization())\n",
        "cnn.add(MaxPool2D(pool_size=2, strides=2))\n",
        "cnn.add(Dropout(0.25))\n",
        "\n",
        "cnn.add(Conv2D(128, kernel_size=3, activation='relu'))\n",
        "cnn.add(BatchNormalization())\n",
        "cnn.add(MaxPool2D(pool_size=2, strides=2))\n",
        "cnn.add(Dropout(0.25))\n",
        "\n",
        "cnn.add(Conv2D(512, kernel_size=3, activation='relu'))\n",
        "cnn.add(BatchNormalization())\n",
        "cnn.add(MaxPool2D(pool_size=2, strides=2))\n",
        "cnn.add(Dropout(0.25))\n",
        "\n",
        "cnn.add(Flatten())\n",
        "cnn.add(Dense(128, activation='relu'))\n",
        "cnn.add(BatchNormalization())\n",
        "cnn.add(Dropout(0.25))\n",
        "cnn.add(Dense(512, activation='relu'))\n",
        "cnn.add(BatchNormalization())\n",
        "cnn.add(Dropout(0.25))\n",
        "cnn.add(Dense(7, activation='softmax'))\n",
        "\n",
        "cnn.compile(optimizer='adam', loss='categorical_crossentropy', metrics=['accuracy'])\n",
        "\n",
        "output = cnn.fit(train_generator, validation_data=validation_generator, epochs=120)\n",
        "\n",
        "plt.figure(figsize=(15, 5))\n",
        "\n",
        "plt.subplot(1, 2, 1)\n",
        "plt.plot(output.history['accuracy'], label='Train Accuracy')\n",
        "plt.plot(output.history['val_accuracy'], label='Validation Accuracy')\n",
        "plt.xlabel('Epoch')\n",
        "plt.ylabel('Accuracy')\n",
        "plt.title('Training and Validation Accuracy')\n",
        "plt.legend()\n",
        "\n",
        "plt.subplot(1, 2, 2)\n",
        "plt.plot(output.history['loss'], label='Train Loss')\n",
        "plt.plot(output.history['val_loss'], label='Validation Loss')\n",
        "plt.xlabel('Epoch')\n",
        "plt.ylabel('Loss')\n",
        "plt.title('Training and Validation Loss')\n",
        "plt.legend()\n",
        "\n",
        "plt.show()\n",
        "\n",
        "cnn.save('model120.h5')\n",
        "\n",
        "files.download('model120.h5')"
      ]
    },
    {
      "cell_type": "markdown",
      "source": [
        "Импортируем нужные библиотеки"
      ],
      "metadata": {
        "id": "ULNW-ZXKqgbB"
      }
    },
    {
      "cell_type": "code",
      "source": [
        "import numpy as np\n",
        "from tensorflow.keras.models import Sequential\n",
        "from tensorflow.keras.layers import Conv2D, BatchNormalization, MaxPool2D, Dropout, Flatten, Dense\n",
        "from tensorflow.keras.optimizers import Adam\n",
        "from tensorflow.keras.preprocessing.image import ImageDataGenerator\n",
        "from google.colab import drive\n",
        "import matplotlib.pyplot as plt"
      ],
      "metadata": {
        "id": "vyzicTV4qdaF"
      },
      "execution_count": null,
      "outputs": []
    },
    {
      "cell_type": "markdown",
      "source": [
        "Подключаемся к гугл диску"
      ],
      "metadata": {
        "id": "yQEZzStrqots"
      }
    },
    {
      "cell_type": "code",
      "source": [
        "drive.mount('/content/drive')"
      ],
      "metadata": {
        "id": "FEy2dx70qleO"
      },
      "execution_count": null,
      "outputs": []
    },
    {
      "cell_type": "markdown",
      "source": [
        "Определение ImageDataGenerator с различными параметрами для предобработки изображений"
      ],
      "metadata": {
        "id": "1ugnxPnXqv8L"
      }
    },
    {
      "cell_type": "code",
      "source": [
        "datagen = ImageDataGenerator(rescale=1./255,\n",
        "                             shear_range=0.2,\n",
        "                             zoom_range=0.2,\n",
        "                             horizontal_flip=True,\n",
        "                             featurewise_center=True,\n",
        "                             featurewise_std_normalization=True)"
      ],
      "metadata": {
        "id": "cvo6-wrxqvlD"
      },
      "execution_count": null,
      "outputs": []
    },
    {
      "cell_type": "markdown",
      "source": [
        "Создание потоков данных для обучения и валидации из директорий с изображениями"
      ],
      "metadata": {
        "id": "lhsiMhMYrJMg"
      }
    },
    {
      "cell_type": "code",
      "source": [
        "train_generator = datagen.flow_from_directory('/content/drive/MyDrive/train',\n",
        "                                              target_size=(48, 48),\n",
        "                                              batch_size=64,\n",
        "                                              color_mode='grayscale',\n",
        "                                              class_mode='categorical')\n",
        "\n",
        "validation_generator = datagen.flow_from_directory('/content/drive/MyDrive/test',\n",
        "                                                  target_size=(48, 48),\n",
        "                                                  batch_size=64,\n",
        "                                                  color_mode='grayscale',\n",
        "                                                  class_mode='categorical')"
      ],
      "metadata": {
        "id": "_HrSf_kYrJxs"
      },
      "execution_count": null,
      "outputs": []
    },
    {
      "cell_type": "markdown",
      "source": [
        "Определение архитектуры модели нейронной сети"
      ],
      "metadata": {
        "id": "vX5rshiLrTn8"
      }
    },
    {
      "cell_type": "code",
      "source": [
        "cnn = Sequential()"
      ],
      "metadata": {
        "id": "YtuSHO23rT2-"
      },
      "execution_count": null,
      "outputs": []
    },
    {
      "cell_type": "markdown",
      "source": [
        "Первый сверточный блок"
      ],
      "metadata": {
        "id": "ljFxA0garhKK"
      }
    },
    {
      "cell_type": "code",
      "source": [
        "cnn.add(Conv2D(32, kernel_size=3, activation='relu', input_shape=[48, 48, 1]))\n",
        "cnn.add(BatchNormalization())\n",
        "cnn.add(MaxPool2D(pool_size=2, strides=2))\n",
        "cnn.add(Dropout(0.25))"
      ],
      "metadata": {
        "id": "Rwyq8GZ_rhdG"
      },
      "execution_count": null,
      "outputs": []
    },
    {
      "cell_type": "markdown",
      "source": [
        "Второй сверточный блок"
      ],
      "metadata": {
        "id": "mw3m1bQdroul"
      }
    },
    {
      "cell_type": "code",
      "source": [
        "cnn.add(Conv2D(64, kernel_size=3, activation='relu'))\n",
        "cnn.add(BatchNormalization())\n",
        "cnn.add(MaxPool2D(pool_size=2, strides=2))\n",
        "cnn.add(Dropout(0.25))"
      ],
      "metadata": {
        "id": "jt3uJPW4rpGl"
      },
      "execution_count": null,
      "outputs": []
    },
    {
      "cell_type": "markdown",
      "source": [
        "Третий сверточный блок\n"
      ],
      "metadata": {
        "id": "BwQ5r4LJruje"
      }
    },
    {
      "cell_type": "code",
      "source": [
        "cnn.add(Conv2D(128, kernel_size=3, activation='relu'))\n",
        "cnn.add(BatchNormalization())\n",
        "cnn.add(MaxPool2D(pool_size=2, strides=2))\n",
        "cnn.add(Dropout(0.25))"
      ],
      "metadata": {
        "id": "8Be9kSW6ru1x"
      },
      "execution_count": null,
      "outputs": []
    },
    {
      "cell_type": "markdown",
      "source": [
        "Четвертый сверточный блок\n"
      ],
      "metadata": {
        "id": "2jbtu-YqryvL"
      }
    },
    {
      "cell_type": "code",
      "source": [
        "cnn.add(Conv2D(512, kernel_size=3, activation='relu'))\n",
        "cnn.add(BatchNormalization())\n",
        "cnn.add(MaxPool2D(pool_size=2, strides=2))\n",
        "cnn.add(Dropout(0.25))"
      ],
      "metadata": {
        "id": "2Mg0vycHrzHd"
      },
      "execution_count": null,
      "outputs": []
    },
    {
      "cell_type": "markdown",
      "source": [
        "Полносвязные слои после выпрямления данных\n"
      ],
      "metadata": {
        "id": "T5r8CxMxr32l"
      }
    },
    {
      "cell_type": "code",
      "source": [
        "cnn.add(Flatten())\n",
        "cnn.add(Dense(128, activation='relu'))\n",
        "cnn.add(BatchNormalization())\n",
        "cnn.add(Dropout(0.25))\n",
        "cnn.add(Dense(512, activation='relu'))\n",
        "cnn.add(BatchNormalization())\n",
        "cnn.add(Dropout(0.25))"
      ],
      "metadata": {
        "id": "lF6bPx3Kr4JS"
      },
      "execution_count": null,
      "outputs": []
    },
    {
      "cell_type": "markdown",
      "source": [
        "Выходной слой с функцией активации softmax для классификации на 7 классов эмоций\n"
      ],
      "metadata": {
        "id": "NtkOnb9Br8Eb"
      }
    },
    {
      "cell_type": "code",
      "source": [
        "cnn.add(Dense(7, activation='softmax'))"
      ],
      "metadata": {
        "id": "50NqIatjr8Zb"
      },
      "execution_count": null,
      "outputs": []
    },
    {
      "cell_type": "markdown",
      "source": [
        "Компиляция модели с оптимизатором Adam и функцией потерь\n"
      ],
      "metadata": {
        "id": "RljyBXcEsAaT"
      }
    },
    {
      "cell_type": "code",
      "source": [
        "cnn.compile(optimizer='adam', loss='categorical_crossentropy', metrics=['accuracy'])"
      ],
      "metadata": {
        "id": "5cftkGjEsAnL"
      },
      "execution_count": null,
      "outputs": []
    },
    {
      "cell_type": "markdown",
      "source": [
        "Обучение модели на тренировочных данных с использованием потоков данных, заданных заранее\n"
      ],
      "metadata": {
        "id": "A1SKOywBsJM5"
      }
    },
    {
      "cell_type": "code",
      "source": [
        "output = cnn.fit(train_generator, validation_data=validation_generator, epochs=120)"
      ],
      "metadata": {
        "id": "TJMTzERlsJtN"
      },
      "execution_count": null,
      "outputs": []
    },
    {
      "cell_type": "markdown",
      "source": [
        "Построение графиков точности и потерь для оценки производительности модели\n"
      ],
      "metadata": {
        "id": "5YBwhOXtsPx9"
      }
    },
    {
      "cell_type": "code",
      "source": [
        "plt.figure(figsize=(15, 5))\n",
        "\n",
        "plt.subplot(1, 2, 1)\n",
        "plt.plot(output.history['accuracy'], label='Train Accuracy')\n",
        "plt.plot(output.history['val_accuracy'], label='Validation Accuracy')\n",
        "plt.xlabel('Epoch')\n",
        "plt.ylabel('Accuracy')\n",
        "plt.title('Training and Validation Accuracy')\n",
        "plt.legend()\n",
        "\n",
        "plt.subplot(1, 2, 2)\n",
        "plt.plot(output.history['loss'], label='Train Loss')\n",
        "plt.plot(output.history['val_loss'], label='Validation Loss')\n",
        "plt.xlabel('Epoch')\n",
        "plt.ylabel('Loss')\n",
        "plt.title('Training and Validation Loss')\n",
        "plt.legend()\n",
        "\n",
        "plt.show()"
      ],
      "metadata": {
        "id": "zY6CV_p6sP9O"
      },
      "execution_count": null,
      "outputs": []
    },
    {
      "cell_type": "markdown",
      "source": [
        "Сохранение модели"
      ],
      "metadata": {
        "id": "Rsn9dMu5bBXh"
      }
    },
    {
      "cell_type": "code",
      "source": [
        "cnn.save('model120.h5')\n",
        "\n",
        "files.download('model120.h5')"
      ],
      "metadata": {
        "id": "qUo9Yf9ibD-L"
      },
      "execution_count": null,
      "outputs": []
    }
  ],
  "metadata": {
    "accelerator": "GPU",
    "colab": {
      "gpuType": "T4",
      "provenance": [],
      "authorship_tag": "ABX9TyOT/7ZP+uLhJx86YSAUeKyU",
      "include_colab_link": true
    },
    "kernelspec": {
      "display_name": "Python 3",
      "name": "python3"
    },
    "language_info": {
      "name": "python"
    }
  },
  "nbformat": 4,
  "nbformat_minor": 0
}